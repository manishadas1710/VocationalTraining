{
 "cells": [
  {
   "cell_type": "code",
   "execution_count": 1,
   "metadata": {},
   "outputs": [],
   "source": [
    "#addition of numbers using NLP"
   ]
  },
  {
   "cell_type": "code",
   "execution_count": 2,
   "metadata": {},
   "outputs": [],
   "source": [
    "def Add(a,b):\n",
    "    c=a+b\n",
    "    return c"
   ]
  },
  {
   "cell_type": "code",
   "execution_count": 3,
   "metadata": {},
   "outputs": [
    {
     "data": {
      "text/plain": [
       "8"
      ]
     },
     "execution_count": 3,
     "metadata": {},
     "output_type": "execute_result"
    }
   ],
   "source": [
    "Add(3,5)"
   ]
  },
  {
   "cell_type": "code",
   "execution_count": 4,
   "metadata": {},
   "outputs": [
    {
     "name": "stdout",
     "output_type": "stream",
     "text": [
      "Enter first number to add\n",
      "44\n",
      "Enter second number to add\n",
      "10\n"
     ]
    },
    {
     "data": {
      "text/plain": [
       "54"
      ]
     },
     "execution_count": 4,
     "metadata": {},
     "output_type": "execute_result"
    }
   ],
   "source": [
    "print('Enter first number to add')\n",
    "x=input()\n",
    "print('Enter second number to add')\n",
    "y=input()\n",
    "no_1=int(x)\n",
    "no_2=int(y)\n",
    "Add(no_1,no_2)"
   ]
  },
  {
   "cell_type": "code",
   "execution_count": 5,
   "metadata": {},
   "outputs": [
    {
     "data": {
      "text/plain": [
       "str"
      ]
     },
     "execution_count": 5,
     "metadata": {},
     "output_type": "execute_result"
    }
   ],
   "source": [
    "c='4'\n",
    "type(c)"
   ]
  },
  {
   "cell_type": "code",
   "execution_count": 6,
   "metadata": {},
   "outputs": [],
   "source": [
    "#Addition of two numbers"
   ]
  },
  {
   "cell_type": "code",
   "execution_count": 7,
   "metadata": {},
   "outputs": [],
   "source": [
    "#dictionary is a collection of many values\n",
    "# Indexes for dictionaries are called keys, and a key with its associated value is called a key-value\n",
    "#pair.In code, a dictionary is typed with braces, {}"
   ]
  },
  {
   "cell_type": "code",
   "execution_count": 8,
   "metadata": {},
   "outputs": [],
   "source": [
    "numbersystem = {\n",
    "    'zero': 0,\n",
    "    'one': 1,\n",
    "    'two': 2,\n",
    "    'three': 3,\n",
    "    'four': 4,\n",
    "    'five': 5,\n",
    "    'six': 6,\n",
    "    'seven': 7,\n",
    "    'eight': 8,\n",
    "    'nine': 9,\n",
    "    'ten': 10,\n",
    "    'eleven': 11,\n",
    "    'twelve': 12,\n",
    "    'thirteen': 13,\n",
    "    'fourteen': 14,\n",
    "    'fifteen': 15,\n",
    "    'sixteen': 16,\n",
    "    'seventeen': 17,\n",
    "    'eighteen': 18,\n",
    "    'nineteen': 19,\n",
    "    'twenty': 20,\n",
    "    'thirty': 30,\n",
    "    'forty': 40,\n",
    "    'fifty': 50,\n",
    "    'sixty': 60,\n",
    "    'seventy': 70,\n",
    "    'eighty': 80,\n",
    "    'ninety': 90,\n",
    "    'hundred': 100,\n",
    "    'thousand': 1000,\n",
    "    'million': 1000000,\n",
    "    'billion': 1000000000\n",
    "}"
   ]
  },
  {
   "cell_type": "code",
   "execution_count": 9,
   "metadata": {},
   "outputs": [],
   "source": [
    "def number_formation(number_words):\n",
    "    numbers = []\n",
    "    for number_word in number_words:\n",
    "        numbers.append(numbersystem[number_word])\n",
    "    if len(numbers) == 4:\n",
    "        return (numbers[0] * numbers[1]) + numbers[2] + numbers[3]\n",
    "    elif len(numbers) == 3:\n",
    "        return numbers[0] * numbers[1] + numbers[2]\n",
    "    elif len(numbers) == 2:\n",
    "        if 100 in numbers:\n",
    "            return numbers[0] * numbers[1]\n",
    "        else:\n",
    "            return numbers[0] + numbers[1]\n",
    "    else:\n",
    "        return numbers[0]\n"
   ]
  },
  {
   "cell_type": "code",
   "execution_count": 10,
   "metadata": {},
   "outputs": [],
   "source": [
    "#function to convert a word to number\n",
    "def word_to_number_conversion(number_sentence):\n",
    "    if type(number_sentence) is not str:\n",
    "        print('Enter a valid string numeric or integer value')\n",
    "        \n",
    "    number_sentence = number_sentence.replace('-', ' ')\n",
    "    #number_sentence = number_sentence.lower()  # converting input to lowercase\n",
    "    \n",
    "#     if(number_sentence.isdigit()):  # return the number if user enters number string\n",
    "#         return int(number_sentence)\n",
    "    try:\n",
    "        float(number_sentence)\n",
    "        return float(string)\n",
    "    except:\n",
    "        pass\n",
    "    \n",
    "    #The split() method splits a string into a list.\n",
    "    #You can specify the separator, default separator is any whitespace.\n",
    "    #The strip() method removes any leading (spaces at the beginning) and trailing (spaces at the end)\n",
    "    #characters (space is the default leading character to remove)\n",
    "    split_words = number_sentence.strip().split()  # strip extra spaces and split sentence into words\n",
    "        \n",
    "    clean_numbers = []\n",
    "\n",
    "    # removing and, & etc.\n",
    "    for word in split_words:\n",
    "        if word in numbersystem:\n",
    "            clean_numbers.append(word)\n",
    "            \n",
    "    #decimal numbers to be implemented later on\n",
    "        \n",
    "    billion_index = clean_numbers.index('billion') if 'billion' in clean_numbers else -1\n",
    "    million_index = clean_numbers.index('million') if 'million' in clean_numbers else -1\n",
    "    thousand_index = clean_numbers.index('thousand') if 'thousand' in clean_numbers else -1\n",
    "    \n",
    "    total_sum=0\n",
    "    \n",
    "    if len(clean_numbers) > 0:\n",
    "        if len(clean_numbers) == 1:\n",
    "                total_sum += numbersystem[clean_numbers[0]]\n",
    "        else:\n",
    "            if billion_index > -1:\n",
    "                billion_multiplier = number_formation(clean_numbers[0:billion_index])\n",
    "                total_sum += billion_multiplier * 1000000000\n",
    "            \n",
    "            if million_index > -1:\n",
    "                if billion_index > -1:\n",
    "                    million_multiplier = number_formation(clean_numbers[billion_index+1:million_index])\n",
    "                else:\n",
    "                    million_multiplier = number_formation(clean_numbers[0:million_index])\n",
    "                total_sum += million_multiplier * 1000000\n",
    "            \n",
    "            if thousand_index > -1:\n",
    "                if million_index > -1:\n",
    "                    thousand_multiplier = number_formation(clean_numbers[million_index+1:thousand_index])\n",
    "                elif billion_index > -1 and million_index == -1:\n",
    "                    thousand_multiplier = number_formation(clean_numbers[billion_index+1:thousand_index])\n",
    "                else:\n",
    "                    thousand_multiplier = number_formation(clean_numbers[0:thousand_index])\n",
    "                total_sum += thousand_multiplier * 1000\n",
    "\n",
    "            if thousand_index > -1 and thousand_index != len(clean_numbers)-1:\n",
    "                hundreds = number_formation(clean_numbers[thousand_index+1:])\n",
    "            elif million_index > -1 and million_index != len(clean_numbers)-1:\n",
    "                hundreds = number_formation(clean_numbers[million_index+1:])\n",
    "            elif billion_index > -1 and billion_index != len(clean_numbers)-1:\n",
    "                hundreds = number_formation(clean_numbers[billion_index+1:])\n",
    "            elif thousand_index == -1 and million_index == -1 and billion_index == -1:\n",
    "                hundreds = number_formation(clean_numbers)\n",
    "            else:\n",
    "                hundreds = 0\n",
    "            total_sum += hundreds\n",
    "            \n",
    "    \n",
    "    return total_sum\n",
    "            \n",
    "    "
   ]
  },
  {
   "cell_type": "code",
   "execution_count": 11,
   "metadata": {},
   "outputs": [],
   "source": [
    "def Addition(a,b):\n",
    "    no_1=word_to_number_conversion(a)\n",
    "    no_2=word_to_number_conversion(b)\n",
    "    c=no_1+no_2\n",
    "    return c"
   ]
  },
  {
   "cell_type": "code",
   "execution_count": 12,
   "metadata": {},
   "outputs": [
    {
     "name": "stdout",
     "output_type": "stream",
     "text": [
      "Enter first number to add\n",
      "one hundred and one\n",
      "Enter second number to add\n",
      "one\n"
     ]
    },
    {
     "data": {
      "text/plain": [
       "102"
      ]
     },
     "execution_count": 12,
     "metadata": {},
     "output_type": "execute_result"
    }
   ],
   "source": [
    "print('Enter first number to add')\n",
    "x=input()\n",
    "print('Enter second number to add')\n",
    "y=input()\n",
    "Addition(x,y)"
   ]
  }
 ],
 "metadata": {
  "kernelspec": {
   "display_name": "Python 3",
   "language": "python",
   "name": "python3"
  },
  "language_info": {
   "codemirror_mode": {
    "name": "ipython",
    "version": 3
   },
   "file_extension": ".py",
   "mimetype": "text/x-python",
   "name": "python",
   "nbconvert_exporter": "python",
   "pygments_lexer": "ipython3",
   "version": "3.8.1"
  }
 },
 "nbformat": 4,
 "nbformat_minor": 4
}
