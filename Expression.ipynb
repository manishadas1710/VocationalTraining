{
 "cells": [
  {
   "cell_type": "markdown",
   "metadata": {},
   "source": [
    "# Expression\n",
    "#### Basically converting a string to mathematical expression"
   ]
  },
  {
   "cell_type": "code",
   "execution_count": 26,
   "metadata": {},
   "outputs": [],
   "source": [
    "import nltk #natural language toolkit for tokenizing list\n",
    "from word2number import w2n #for convering words to numbers\n",
    "\n",
    "#this is to detect the keywords in the input to recognize which operation to perform\n",
    "operators={\"add\",\"sum\",\"multiply\",\"multiplied\",\"subtract\",\"divide\",\"divided\",\"minus\",\"plus\",\"product\",\"+\",\"-\",\"*\",\"/\",\"difference\"}\n",
    "\n",
    "#this is to recognize operators in the input since input is in string format\n",
    "op={\"+\",\"-\",\"/\",\"*\"}\n",
    "\n",
    "#this is to recognise connectors that we use in our input\n",
    "connectors={\"from\",\"and\",\",\"}\n",
    "\n",
    "#these are the words that we don't need in our actual expression\n",
    "remove={\"of\",\"by\",\"to\",\"is\",\"between\"}\n",
    "\n",
    "# this is to map string operators to their corresponding mathematical opertators..\n",
    "mapOperator={\"add\":'+','sum':'+',\"plus\":'+',\"multiply\":'*',\"multiplied\":'*',\"product\":'*',\"subtract\":'-',\n",
    "            \"divide\":'/',\"divided\":'/',\"minus\":'-',\"+\":'+',\"-\":'-',\"*\":'*',\"/\":'/',\"difference\":'-'}\n",
    "\n",
    "# this is to recognize the word numbers\n",
    "nums= { \"zero\",\"one\",\"two\",\"three\",\"four\", \"five\", \"six\",\"seven\",\"eight\",\"nine\",\"ten\",\n",
    "       \"eleven\",\"twelve\",\"thirteen\", \"fourteen\", \"fifteen\",\"sixteen\",\"seventeen\", \"eighteen\",\n",
    "       \"nineteen\",\"twenty\",\"thirty\",\"forty\", \"fifty\",\"sixty\",\"seventy\",\"eighty\",\"ninety\",\"hundred\",\"thousand\",\n",
    "       \"million\", \"billion\", \"trillion\"}\n",
    "\n",
    "# this is used as multiplier if we need one\n",
    "multipliers= {\"hundred\",\"thousand\",\"million\", \"billion\", \"trillion\"}"
   ]
  },
  {
   "cell_type": "code",
   "execution_count": 16,
   "metadata": {},
   "outputs": [],
   "source": [
    "#this function process the input string and remove unneccessary words and \n",
    "#convert string operators to mathematical one and returns the final lis\n",
    "\n",
    "def process_input(inp):\n",
    "    li=nltk.word_tokenize(inp)\n",
    "    print(\"Raw list: \",li)\n",
    "    wrd_exp=[]\n",
    "    for i in range(len(li)):\n",
    "        li[i]= li[i].lower() #input keywords are coverted to lowercase for matching\n",
    "        if li[i] not in remove: #appending ony those words which we want in our expression\n",
    "            if li[i] in operators: #mapping the string operators to corresponding mathematical one\n",
    "                cur_op= mapOperator[li[i]]\n",
    "                if len(wrd_exp) != 0 and wrd_exp[-1] not in op:\n",
    "                    wrd_exp.append(cur_op)\n",
    "            elif li[i] in connectors: #appending the connectors as well..they help to distinguish between two different numbers\n",
    "                wrd_exp.append(cur_op)\n",
    "            elif (li[i] in nums) or li[i].replace('.','',1).isdigit(): #appending the numbers (words, integers and floating points as well)\n",
    "                wrd_exp.append(li[i])\n",
    "    print(\"Mathematical Expression: \",wrd_exp)\n",
    "    return wrd_exp"
   ]
  },
  {
   "cell_type": "code",
   "execution_count": 17,
   "metadata": {},
   "outputs": [],
   "source": [
    "#this takes input raw list of numbers, operators and connectors and returns the final expression list\n",
    "def maths_expression(args):\n",
    "    express=[]\n",
    "    number=''\n",
    "    for i in range(len(args)+1):\n",
    "        if i< len(args) and args[i] in nums: # seperating different word numbers\n",
    "            if number != '':\n",
    "                number+=' '+ args[i]\n",
    "            else:\n",
    "                number+=args[i]\n",
    "        else : #appending the the numberic form of numbers that i have seperated( words nmbers are converted to numeric form as well)\n",
    "            if number !='' and number.split()[0] in multipliers: #when we need multipliers\n",
    "                number='one '+number\n",
    "            if number != '':\n",
    "                express.append(str(w2n.word_to_num(number)))   #converts word numbers to numeric form then again into string format\n",
    "            if i<len(args) and args[i] not in nums: #finally generating the expression list\n",
    "                express.append(args[i])\n",
    "            number=''\n",
    "    print(\"Final Expression list:\",express)\n",
    "    return express"
   ]
  },
  {
   "cell_type": "code",
   "execution_count": 18,
   "metadata": {},
   "outputs": [],
   "source": [
    "# this function simply takes strings in a list to concatenate each element and returns the final single string\n",
    "def list_to_str(express_list):\n",
    "    exp=''\n",
    "    for e in express_list:\n",
    "        exp= exp+e;\n",
    "    return exp "
   ]
  },
  {
   "cell_type": "code",
   "execution_count": 19,
   "metadata": {},
   "outputs": [],
   "source": [
    "# this function combine all the operations..\n",
    "def final():\n",
    "    inp= input(\"Enter the input:\") #taking input\n",
    "    raw_list= process_input(inp) #removing unneccessary words\n",
    "    expression_list= maths_expression(raw_list) #converting raw list into meaningful expression list \n",
    "    expression= list_to_str(expression_list) # converts expression list to sigle string\n",
    "    print(\"Final Expression:\",expression)\n",
    "    ans= eval(expression) #eval() predefined function- takes a expression string and evaluates it to produce final o/p using BODMAS\n",
    "    return ans\n",
    "    "
   ]
  },
  {
   "cell_type": "code",
   "execution_count": 23,
   "metadata": {},
   "outputs": [
    {
     "name": "stdout",
     "output_type": "stream",
     "text": [
      "Enter the input:ten plus 6 multiplied by 8 / 2 minus 8\n",
      "Raw list:  ['ten', 'plus', '6', 'multiplied', 'by', '8', '/', '2', 'minus', '8']\n",
      "Mathematical Expression:  ['ten', '+', '6', '*', '8', '/', '2', '-', '8']\n",
      "Final Expression list: ['10', '+', '6', '*', '8', '/', '2', '-', '8']\n",
      "Final Expression: 10+6*8/2-8\n",
      "Ans: 26.0\n"
     ]
    }
   ],
   "source": [
    "print(\"Ans:\",final())"
   ]
  },
  {
   "cell_type": "code",
   "execution_count": null,
   "metadata": {},
   "outputs": [],
   "source": []
  }
 ],
 "metadata": {
  "kernelspec": {
   "display_name": "Python 3",
   "language": "python",
   "name": "python3"
  },
  "language_info": {
   "codemirror_mode": {
    "name": "ipython",
    "version": 3
   },
   "file_extension": ".py",
   "mimetype": "text/x-python",
   "name": "python",
   "nbconvert_exporter": "python",
   "pygments_lexer": "ipython3",
   "version": "3.7.3"
  }
 },
 "nbformat": 4,
 "nbformat_minor": 2
}
